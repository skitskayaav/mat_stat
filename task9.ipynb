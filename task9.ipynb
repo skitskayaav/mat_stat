{
 "cells": [
  {
   "cell_type": "code",
   "execution_count": 70,
   "metadata": {},
   "outputs": [],
   "source": [
    "import numpy as np\n",
    "from scipy import integrate\n",
    "import matplotlib.pyplot as plt\n",
    "from scipy.stats import chi2\n",
    "from scipy.special import gammainc, gamma"
   ]
  },
  {
   "cell_type": "markdown",
   "metadata": {},
   "source": [
    "## 9 номер"
   ]
  },
  {
   "cell_type": "markdown",
   "metadata": {},
   "source": [
    "### пункт а)"
   ]
  },
  {
   "cell_type": "code",
   "execution_count": 71,
   "metadata": {},
   "outputs": [
    {
     "data": {
      "text/plain": [
       "<matplotlib.legend.Legend at 0x1c88a912d60>"
      ]
     },
     "execution_count": 71,
     "metadata": {},
     "output_type": "execute_result"
    },
    {
     "data": {
      "image/png": "[encoded data removed]",
      "text/plain": [
       "<Figure size 360x360 with 1 Axes>"
      ]
     },
     "metadata": {
      "needs_background": "light"
     },
     "output_type": "display_data"
    }
   ],
   "source": [
    "n = 100\n",
    "array = [5, 8, 6, 12, 14, 18, 11, 6, 13, 7]\n",
    "\n",
    "sample = []\n",
    "for i in range(10):\n",
    "    sample.extend([i for j in range(array[i])])\n",
    "    \n",
    "points = np.linspace(0, 9, 100)\n",
    "emp = [np.sum(sample<el)/n for el in points]\n",
    "F = [x/10 for x in points]\n",
    "\n",
    "fig, ax = plt.subplots(figsize=(5,5))\n",
    "ax.grid()\n",
    "\n",
    "ax.set_xticks(np.linspace(0, 10, 11))\n",
    "ax.set_yticks(np.linspace(0, 1, 12))\n",
    "\n",
    "\n",
    "ax.plot(points, emp, color = 'r', label ='ЭФР')\n",
    "ax.plot(points, F, color = 'g', label ='ФР')\n",
    "\n",
    "ax.legend()\n"
   ]
  },
  {
   "cell_type": "code",
   "execution_count": 72,
   "metadata": {},
   "outputs": [
    {
     "data": {
      "text/plain": [
       "1.3090909090909086"
      ]
     },
     "execution_count": 72,
     "metadata": {},
     "output_type": "execute_result"
    }
   ],
   "source": [
    "delta = max(list(map(lambda x,y: abs(x-y), f_acc, f_emp))) * n**0.5\n",
    "delta"
   ]
  },
  {
   "cell_type": "markdown",
   "metadata": {},
   "source": [
    "### пункт b)"
   ]
  },
  {
   "cell_type": "code",
   "execution_count": 73,
   "metadata": {},
   "outputs": [],
   "source": [
    "def gauss(x, mean, sigma):\n",
    "    return 1/(sigma * np.sqrt(2 * np.pi)) * np.exp(-(x - mean)**2 / (2 * sigma**2) )\n",
    "\n",
    "borders = [i/10 for i in range(5, 86, 10)]\n",
    "borders.insert(0, -np.inf)\n",
    "borders.append(np.inf)\n",
    "\n",
    "sigmas = np.linspace(1, 5, 100)\n",
    "means = np.linspace(0, 7, 100)\n",
    "\n",
    "l_max = 0\n",
    "p_best = tuple()\n",
    "for i in sigmas:\n",
    "    for j in means:\n",
    "        p = []\n",
    "        for k in range(len(borders) - 1):\n",
    "            p.append(integrate.quad(gauss, borders[k], borders[k+1], args = (j, i))[0])\n",
    "        l = np.prod(list(map(lambda x, y: x**y, p, array)))\n",
    "        if l > l_max:\n",
    "            l_max = l\n",
    "            p_best = (j, i)\n"
   ]
  },
  {
   "cell_type": "code",
   "execution_count": 74,
   "metadata": {},
   "outputs": [
    {
     "data": {
      "text/plain": [
       "2.7"
      ]
     },
     "execution_count": 74,
     "metadata": {},
     "output_type": "execute_result"
    }
   ],
   "source": [
    "sigma = round(p_best[1], 2)\n",
    "sigma"
   ]
  },
  {
   "cell_type": "code",
   "execution_count": 75,
   "metadata": {},
   "outputs": [
    {
     "data": {
      "text/plain": [
       "4.81"
      ]
     },
     "execution_count": 75,
     "metadata": {},
     "output_type": "execute_result"
    }
   ],
   "source": [
    "a = round(p_best[0], 2)\n",
    "a"
   ]
  },
  {
   "cell_type": "code",
   "execution_count": 76,
   "metadata": {},
   "outputs": [],
   "source": [
    "mean, sigma = p_best\n",
    "al_ = []\n",
    "for i in range(len(borders) - 1):\n",
    "    al_.append(integrate.quad(gauss, borders[i], borders[i+1], args = (mean, sigma))[0])\n",
    "    \n",
    "deltas = []\n",
    "for i in range(10):\n",
    "    deltas.append((array[i] - n*al_[i])**2/(n*al_[i]))\n",
    "delta_hi = np.sum(deltas)\n",
    "\n"
   ]
  },
  {
   "cell_type": "code",
   "execution_count": 77,
   "metadata": {},
   "outputs": [
    {
     "data": {
      "text/plain": [
       "9.767"
      ]
     },
     "execution_count": 77,
     "metadata": {},
     "output_type": "execute_result"
    }
   ],
   "source": [
    "delta_h = round(delta_hi, 3)\n",
    "delta_h"
   ]
  },
  {
   "cell_type": "markdown",
   "metadata": {},
   "source": [
    "### b) Колмогоров"
   ]
  },
  {
   "cell_type": "code",
   "execution_count": 78,
   "metadata": {},
   "outputs": [],
   "source": [
    "\n",
    "sample_first = []\n",
    "for i in range(10):\n",
    "    sample_first.extend([i for j in range(array[i])])\n",
    "    \n",
    "deltas_kolm = []\n",
    "for i in range(50000):\n",
    "    sample = np.random.normal(mean, sigma, n)\n",
    "    points = np.linspace(0, max(max(sample), 9), 100)\n",
    "    f1 = [np.sum(sample<elem)/n for elem in points]\n",
    "    f2 = [np.sum(sample_first<elem)/n for elem in points]\n",
    "    tmp = 10*max(list(map(lambda x,y: abs(x-y), f1, f2)))\n",
    "    deltas_kolm.append(tmp)\n",
    "\n",
    "deltas_var = np.sort(deltas_kolm)\n",
    "k = len(deltas_var[deltas_var<1.299999])\n",
    "p_value = 1-((k-1)/N)\n"
   ]
  },
  {
   "cell_type": "code",
   "execution_count": 79,
   "metadata": {},
   "outputs": [
    {
     "data": {
      "text/plain": [
       "0.53566"
      ]
     },
     "execution_count": 79,
     "metadata": {},
     "output_type": "execute_result"
    }
   ],
   "source": [
    "p_value"
   ]
  },
  {
   "cell_type": "markdown",
   "metadata": {},
   "source": [
    "### c)"
   ]
  },
  {
   "cell_type": "code",
   "execution_count": 80,
   "metadata": {},
   "outputs": [],
   "source": [
    "mean = np.mean(sample_first)\n",
    "sigma = np.std(sample_first)"
   ]
  },
  {
   "cell_type": "code",
   "execution_count": 81,
   "metadata": {},
   "outputs": [
    {
     "data": {
      "text/plain": [
       "2.505414137423193"
      ]
     },
     "execution_count": 81,
     "metadata": {},
     "output_type": "execute_result"
    }
   ],
   "source": [
    "sigma"
   ]
  },
  {
   "cell_type": "code",
   "execution_count": 82,
   "metadata": {},
   "outputs": [
    {
     "data": {
      "text/plain": [
       "4.81"
      ]
     },
     "execution_count": 82,
     "metadata": {},
     "output_type": "execute_result"
    }
   ],
   "source": [
    "a"
   ]
  },
  {
   "cell_type": "code",
   "execution_count": 83,
   "metadata": {},
   "outputs": [],
   "source": [
    "def cdf_hi2(x, k):\n",
    "    return 3*gammainc(k/2, x/2)/gamma(k/2)\n",
    "\n",
    "points = np.linspace(0, 30, 1000)\n",
    "hi_7 = []\n",
    "hi_9 = []\n",
    "for x in points:\n",
    "    hi_7.append(integrate.quad(chi2.pdf, 0, x, args=7)[0])\n",
    "    hi_9.append(integrate.quad(chi2.pdf, 0, x, args=9)[0])\n",
    "    \n",
    "deltas_func = [len(deltas_var_omm[deltas_var_omm<i])/N for i in points]"
   ]
  },
  {
   "cell_type": "code",
   "execution_count": 84,
   "metadata": {},
   "outputs": [
    {
     "name": "stderr",
     "output_type": "stream",
     "text": [
      "No handles with labels found to put in legend.\n"
     ]
    },
    {
     "data": {
      "text/plain": [
       "<matplotlib.legend.Legend at 0x1c88a9f2d90>"
      ]
     },
     "execution_count": 84,
     "metadata": {},
     "output_type": "execute_result"
    },
    {
     "data": {
      "image/png": "[encoded data removed]",
      "text/plain": [
       "<Figure size 864x504 with 1 Axes>"
      ]
     },
     "metadata": {
      "needs_background": "light"
     },
     "output_type": "display_data"
    }
   ],
   "source": [
    "fig, ax = plt.subplots(figsize=(12,7))\n",
    "ax.grid()\n",
    "\n",
    "ax.set_xticks(np.linspace(0, max(points), 15))\n",
    "ax.set_yticks(np.linspace(0, 1, 20))\n",
    "\n",
    "\n",
    "ax.grid(which=\"major\", alpha=0.6)\n",
    "ax.legend(loc='best', prop={'size': 15})\n",
    "\n",
    "ax.plot(points, hi_7, color = 'r', label ='$\\chi ^{2}$(7)')\n",
    "ax.plot(points, hi_9, color = 'g', label ='$\\chi ^{2}$(9)')\n",
    "ax.plot(points, deltas_func, color = 'b', label ='ЭФР')\n",
    "\n",
    "ax.legend()"
   ]
  },
  {
   "cell_type": "code",
   "execution_count": null,
   "metadata": {},
   "outputs": [],
   "source": []
  },
  {
   "cell_type": "code",
   "execution_count": null,
   "metadata": {},
   "outputs": [],
   "source": []
  }
 ],
 "metadata": {
  "kernelspec": {
   "display_name": "Python 3",
   "language": "python",
   "name": "python3"
  },
  "language_info": {
   "codemirror_mode": {
    "name": "ipython",
    "version": 3
   },
   "file_extension": ".py",
   "mimetype": "text/x-python",
   "name": "python",
   "nbconvert_exporter": "python",
   "pygments_lexer": "ipython3",
   "version": "3.8.5"
  }
 },
 "nbformat": 4,
 "nbformat_minor": 4
}
