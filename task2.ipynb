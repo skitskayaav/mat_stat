{
 "cells": [
  {
   "cell_type": "code",
   "execution_count": 42,
   "metadata": {},
   "outputs": [],
   "source": [
    "import matplotlib.pyplot as plt\n",
    "import numpy as np\n",
    "import scipy.stats as sps\n",
    "from scipy import stats\n",
    "import math \n",
    "import scipy\n",
    "import statistics \n",
    "from scipy.integrate import quad\n",
    "from sklearn import preprocessing\n",
    "import seaborn as sns\n",
    "from scipy.stats import chi2, t, f, norm\n",
    "import pandas as pd"
   ]
  },
  {
   "cell_type": "markdown",
   "metadata": {},
   "source": [
    "## Задача Т1"
   ]
  },
  {
   "cell_type": "code",
   "execution_count": 2,
   "metadata": {},
   "outputs": [],
   "source": [
    "N = 50\n",
    "p = 6\n",
    "coef = np.array([3, -2, 1, 1, -1])\n",
    "data = np.array([np.random.uniform(low = -1.0, high = 1.0, size = 5) for i in range(N)])\n",
    "target = np.array([np.random.normal(2 + np.sum(i * coef), 1.5) for i in data])"
   ]
  },
  {
   "cell_type": "markdown",
   "metadata": {},
   "source": [
    "#### пункт а)"
   ]
  },
  {
   "cell_type": "code",
   "execution_count": 3,
   "metadata": {},
   "outputs": [
    {
     "data": {
      "text/plain": [
       "[0.1063667870083993,\n",
       " 0.1952354479927848,\n",
       " 0.25486439523010085,\n",
       " 0.03799514817780103,\n",
       " 0.06744289346541099]"
      ]
     },
     "execution_count": 3,
     "metadata": {},
     "output_type": "execute_result"
    }
   ],
   "source": [
    "R_2_res = []\n",
    "for i in range(5):\n",
    "    psi = np.ones((N,1))\n",
    "    psi = np.hstack([psi, np.delete(data, i, 1)])\n",
    "    y = data[:,i]\n",
    "    F = psi.T @ psi\n",
    "    F_1 = np.linalg.inv(F)\n",
    "    beta = F_1@psi.T @ y\n",
    "    rss = (y-psi @ beta).T @ (y-psi @ beta)\n",
    "    tss = np.sum((y-y.mean())**2) \n",
    "    R_2_res.append(1-rss/tss)\n",
    "R_2_res"
   ]
  },
  {
   "cell_type": "markdown",
   "metadata": {},
   "source": [
    "##### не являются мультиколлинеарными"
   ]
  },
  {
   "cell_type": "markdown",
   "metadata": {},
   "source": [
    "#### пункт b)"
   ]
  },
  {
   "cell_type": "code",
   "execution_count": 6,
   "metadata": {},
   "outputs": [
    {
     "name": "stdout",
     "output_type": "stream",
     "text": [
      "Коэффициенты - \n",
      "2.005629186981994\n",
      "3.298071357025634\n",
      "-1.6635951185887063\n",
      "0.6264552943116686\n",
      "0.9318336626882127\n",
      "-1.2835316884737793\n"
     ]
    }
   ],
   "source": [
    "psi = np.ones((N,1))\n",
    "psi = np.hstack([psi, data])\n",
    "\n",
    "F = psi.T @ psi\n",
    "F_1 = np.linalg.inv(F)\n",
    "beta = F_1@psi.T @ target\n",
    "rss = (target - psi @ beta).T @ (target-psi @ beta)\n",
    "tss = np.sum((target-target.mean())**2) \n",
    "\n",
    "print(\"Коэффициенты - \")\n",
    "for i in range(len(beta)):\n",
    "    print(beta[i])"
   ]
  },
  {
   "cell_type": "code",
   "execution_count": 8,
   "metadata": {},
   "outputs": [
    {
     "name": "stdout",
     "output_type": "stream",
     "text": [
      "p-value for beta 0: 5.313620440205256e-10\n",
      "p-value for beta 1: 6.519272529667616e-08\n",
      "p-value for beta 2: 0.0006496515157143047\n",
      "p-value for beta 3: 0.2556447769483082\n",
      "p-value for beta 4: 0.056339133633583185\n",
      "p-value for beta 5: 0.00423651496810482\n"
     ]
    }
   ],
   "source": [
    "p_value_coef =  np.array([])\n",
    "for i in range(len(beta)):\n",
    "    delta = beta[i]/(np.sqrt(rss*F_1[i,i]))*np.sqrt(N-p)\n",
    "    p_value_coef = np.append(p_value_coef, 2*t.sf(abs(delta), N-p))\n",
    "    print(f\"p-value for beta {i}: {2*t.sf(abs(delta), N-p)}\")"
   ]
  },
  {
   "cell_type": "markdown",
   "metadata": {},
   "source": [
    "##### бета 5 больше 0.05, поэтому он является не значимым"
   ]
  },
  {
   "cell_type": "markdown",
   "metadata": {},
   "source": [
    "#### пункт с)"
   ]
  },
  {
   "cell_type": "code",
   "execution_count": 9,
   "metadata": {},
   "outputs": [
    {
     "name": "stdout",
     "output_type": "stream",
     "text": [
      "Коэффициент детерминации (доля дисперсии, объясняемая регрессией) 0.7224817925331977\n",
      "p-value: 2.991456023337946e-06\n"
     ]
    }
   ],
   "source": [
    "R_2 = 1-rss/tss\n",
    "print(f\"Коэффициент детерминации (доля дисперсии, объясняемая регрессией) {R_2}\")\n",
    "delta_R_2 = R_2**2/(1-R_2**2)*(N-p)/(p-1)\n",
    "print(f\"p-value: {1- f.cdf(abs(delta_R_2), p-1, N-p)}\")"
   ]
  },
  {
   "cell_type": "markdown",
   "metadata": {},
   "source": [
    "##### p-value < alfa => мы можем отвергать основную гипотезу о незначимости регрессии"
   ]
  },
  {
   "cell_type": "markdown",
   "metadata": {},
   "source": [
    "#### пункт d)"
   ]
  },
  {
   "cell_type": "code",
   "execution_count": 13,
   "metadata": {},
   "outputs": [
    {
     "name": "stdout",
     "output_type": "stream",
     "text": [
      "прогноз: 2.005629186981994\n",
      "2.0152\n",
      "2.0153\n",
      "2.0154\n",
      "2.0155\n",
      "Доверительный интервал: (-1.540, 5.551)\n"
     ]
    }
   ],
   "source": [
    "psi_d = np.zeros_like(beta)\n",
    "psi_d[0] = 1\n",
    "y_d = np.sum(psi_d*beta)\n",
    "print(f\"прогноз: {y_d}\")\n",
    "\n",
    "for i in np.arange(2, 5, 0.0001):\n",
    "    if abs(t.cdf(i, N-p) - 0.975)< 0.00001:\n",
    "        print(f\"{i:.4f}\")\n",
    "2.0152\n",
    "2.0153\n",
    "2.0154\n",
    "2.0155\n",
    "delta_d = 2.0154*np.sqrt(1+psi_d@F_1@psi_d.T)*np.sqrt(rss/(N-p)) \n",
    "print(f\"Доверительный интервал: ({y_d-delta_d:.3f}, {y_d+delta_d:.3f})\")"
   ]
  },
  {
   "cell_type": "markdown",
   "metadata": {},
   "source": [
    "#### пункт е)"
   ]
  },
  {
   "cell_type": "code",
   "execution_count": 14,
   "metadata": {},
   "outputs": [
    {
     "name": "stdout",
     "output_type": "stream",
     "text": [
      "627\n",
      "p-value: 0.8056255996938094\n"
     ]
    }
   ],
   "source": [
    "error = target - psi@beta\n",
    "I = 0\n",
    "for i in range(1, len(error)):\n",
    "    I += np.sum(error[i:] < error[i-1])\n",
    "\n",
    "print(I)\n",
    "delta_e = (I-N*(N-1)/4)/np.sqrt(N**3/36)\n",
    "print(f\"p-value: {2*(norm.sf(abs(delta_e), 0, 1))}\")"
   ]
  },
  {
   "cell_type": "markdown",
   "metadata": {},
   "source": [
    "##### p-val > 0.05 => отвергаем гипотезу о независимости ошибок"
   ]
  },
  {
   "cell_type": "markdown",
   "metadata": {},
   "source": [
    "#### пункт f)"
   ]
  },
  {
   "cell_type": "code",
   "execution_count": 17,
   "metadata": {},
   "outputs": [
    {
     "name": "stdout",
     "output_type": "stream",
     "text": [
      "sigma = 1.6329948075470304\n"
     ]
    },
    {
     "data": {
      "image/png": "[encoded data removed]",
      "text/plain": [
       "<Figure size 432x288 with 1 Axes>"
      ]
     },
     "metadata": {
      "needs_background": "light"
     },
     "output_type": "display_data"
    }
   ],
   "source": [
    "def ecdf(values):\n",
    "    X_ = sorted(set(values))\n",
    "    Y_ = [np.mean(values < x) for x in X_]\n",
    "    X = sum([[v, v] for v in X_], [])\n",
    "    Y = sum([[v, v] for v in Y_], [])\n",
    "    Y = Y[1:]+[1]\n",
    "    return X, Y\n",
    "\n",
    "\n",
    "sigma = np.sqrt(error.var())  \n",
    "print(f\"sigma = {sigma}\")\n",
    "\n",
    "\n",
    "X_ecdf, Y_ecdf = ecdf(error)\n",
    "Y_error = norm.cdf(np.sort(error), 0, sigma)\n",
    "delta_f = np.sqrt(N)*(np.max(abs(Y_error.repeat(2)-Y_ecdf)))\n",
    "\n",
    "\n",
    "plt.plot(np.linspace(min(error), max(error), N), Y_error, color = 'g')\n",
    "plt.plot(X_ecdf, Y_ecdf, color = 'r')\n",
    "plt.show()"
   ]
  },
  {
   "cell_type": "code",
   "execution_count": 20,
   "metadata": {},
   "outputs": [
    {
     "name": "stdout",
     "output_type": "stream",
     "text": [
      "[0.4748342  0.48340755 0.48354553 ... 1.71965146 1.74239899 1.76215597]\n",
      "p_value Колмогорова и параметрического бутстрапа= 0.9789\n"
     ]
    }
   ],
   "source": [
    "delta_arr = np.array([])\n",
    "for i in range(10000):\n",
    "    error_i = np.random.normal(0, sigma, size = N)\n",
    "    m_i, sigma_i = error_i.mean(), error_i.var() \n",
    "    Y_error_i = norm.cdf(np.sort(error_i), m_i, sigma_i)\n",
    "    _, Y_ecdf_i = ecdf(error_i)\n",
    "    delta_i = np.sqrt(N)*(np.max(abs(Y_error_i.repeat(2)-Y_ecdf_i)))\n",
    "    delta_arr = np.append(delta_arr, delta_i)\n",
    "delta_arr.sort()\n",
    "print(delta_arr)\n",
    "\n",
    "k_ = sum(delta_arr < delta_f)\n",
    "k_ += 1\n",
    "\n",
    "p_value_f = 1 - (k_ - 1)/10000\n",
    "print(f\"p_value Колмогорова и параметрического бутстрапа= {p_value_f}\")"
   ]
  },
  {
   "cell_type": "markdown",
   "metadata": {},
   "source": [
    "##### нет оснований отвергнуть гипотезу"
   ]
  },
  {
   "cell_type": "markdown",
   "metadata": {},
   "source": [
    "#### пункт g)"
   ]
  },
  {
   "cell_type": "code",
   "execution_count": 22,
   "metadata": {},
   "outputs": [
    {
     "name": "stdout",
     "output_type": "stream",
     "text": [
      "sigma = 2.0196847359922963\n",
      "R2 до удаления выбросов: 0.7224817925331977, после: 0.7224817925331977\n"
     ]
    }
   ],
   "source": [
    "sigma_g = np.median(abs(error))/0.675\n",
    "print(f\"sigma = {sigma_g}\")\n",
    "row_del = []\n",
    "N_g = N\n",
    "\n",
    "for i,e in enumerate(error):\n",
    "    if e<=-2*sigma_g or e>=2*sigma_g:\n",
    "        N_g -=1\n",
    "        row_del.append(i)\n",
    "        print(i,e)\n",
    "        \n",
    "        \n",
    "data_g = np.delete(data, (row_del), axis=0)\n",
    "target_g = np.delete(target, row_del)\n",
    "psi_g = np.ones((N_g,1))\n",
    "psi_g = np.hstack([psi_g, data_g])\n",
    "\n",
    "F_g = psi_g.T @ psi_g\n",
    "F_1_g = np.linalg.inv(F_g)\n",
    "beta_g = F_1_g@psi_g.T @ target_g\n",
    "rss_g = (target_g - psi_g @ beta_g).T @ (target_g-psi_g @ beta_g)\n",
    "tss_g = np.sum((target_g-target_g.mean())**2) \n",
    "R_2_g = 1-rss_g/tss_g \n",
    "print(f\"R2 до удаления выбросов: {R_2}, после: {R_2_g}\")"
   ]
  },
  {
   "cell_type": "markdown",
   "metadata": {},
   "source": [
    "#### пункт h)"
   ]
  },
  {
   "cell_type": "code",
   "execution_count": 23,
   "metadata": {},
   "outputs": [
    {
     "data": {
      "text/plain": [
       "0.6414805005696576"
      ]
     },
     "execution_count": 23,
     "metadata": {},
     "output_type": "execute_result"
    }
   ],
   "source": [
    "CV_array = np.array([])\n",
    "for i in range(N):\n",
    "    data_h = np.delete(data, i, axis=0)\n",
    "    target_h = np.delete(target, i)\n",
    "    psi_h = np.ones((N-1, 1))\n",
    "    psi_h = np.hstack([psi_h, data_h])\n",
    "    \n",
    "    F_h = psi_h.T @ psi_h\n",
    "    F_1_h = np.linalg.inv(F_h)\n",
    "    beta_h = F_1_h @ psi_h.T @ target_h\n",
    "    CV_array = np.append(CV_array, (np.insert(data[i], 0, 1)@beta_h - target[i])**2)\n",
    "R_cv = 1- np.sum(CV_array)/tss\n",
    "R_cv"
   ]
  },
  {
   "cell_type": "markdown",
   "metadata": {},
   "source": [
    "#### пункт i)"
   ]
  },
  {
   "cell_type": "code",
   "execution_count": 24,
   "metadata": {},
   "outputs": [
    {
     "name": "stdout",
     "output_type": "stream",
     "text": [
      "p_value: 0.29919000936440465\n"
     ]
    }
   ],
   "source": [
    "k = 5\n",
    "teta_arr = np.array([])\n",
    "for i in range(k):\n",
    "    teta_arr = np.append(teta_arr, np.random.normal(2+np.sum(coef*1), 1.5))\n",
    "variance_5 = 1/(k-1)*np.sum((teta_arr - np.mean(teta_arr))**2)\n",
    "delta_5 = rss/((N-p)*variance_5)\n",
    "p_value_5 = f.sf(delta_5, N-p, k-1)\n",
    "print(f\"p_value: {p_value_5}\")"
   ]
  },
  {
   "cell_type": "markdown",
   "metadata": {},
   "source": [
    "##### нет оснований отвергнуть гипотезу о равенстве дисперсий"
   ]
  },
  {
   "cell_type": "markdown",
   "metadata": {},
   "source": [
    "#### пункт j)"
   ]
  },
  {
   "cell_type": "code",
   "execution_count": 27,
   "metadata": {},
   "outputs": [
    {
     "name": "stdout",
     "output_type": "stream",
     "text": [
      "наименее значимый коэффициент = 3\n",
      "Коэффициенты - \n",
      "1.9820123331386847\n",
      "3.251310995984098\n",
      "-1.7091428023209099\n",
      "0.7935554621331022\n",
      "-1.236411072433179\n"
     ]
    }
   ],
   "source": [
    "\n",
    "print(f\"наименее значимый коэффициент = {p_value_coef.argmax()}\")\n",
    "data_j = np.delete(data, p_value_coef.argmax(), axis=1)\n",
    "psi_j = np.ones((N,1))\n",
    "psi_j = np.hstack([psi_j, data_j])\n",
    "\n",
    "F_j = psi_j.T @ psi_j\n",
    "F_1_j = np.linalg.inv(F_j)\n",
    "beta_j = F_1_j@psi_j.T @ target\n",
    "rss_j = (target - psi_j @ beta_j).T @ (target - psi_j @ beta_j)\n",
    "tss_j = np.sum((target - target.mean())**2) \n",
    "\n",
    "print(\"Коэффициенты - \")\n",
    "for i in range(len(beta_j)):\n",
    "    print(beta_j[i])\n"
   ]
  },
  {
   "cell_type": "code",
   "execution_count": 29,
   "metadata": {},
   "outputs": [
    {
     "name": "stdout",
     "output_type": "stream",
     "text": [
      "p-value for feach 0: 2.049951400389533e-09\n",
      "p-value for feach 1: 2.1146297561691433e-07\n",
      "p-value for feach 2: 0.0007525621663076822\n",
      "p-value for feach 3: 0.16362180047174846\n",
      "p-value for feach 4: 0.007737569022449708\n",
      "коэффициент детерминации после удаления наименее значимого коэффициента 0.6982501084844281\n"
     ]
    }
   ],
   "source": [
    "p_value_coef_j =  np.array([])\n",
    "for i in range(len(beta_j)):\n",
    "    delta_j = beta_j[i]/(np.sqrt(rss_j*F_1_j[i,i]))*np.sqrt(N-p)\n",
    "    p_value_coef_j = np.append(p_value_coef_j, 2*t.sf(abs(delta_j), N-p))\n",
    "    print(f\"p-value for feach {i}: {2*t.sf(abs(delta_j), N-p)}\") #t.sf = 1-t.cdf, t.cdf - функция распределения(даёт значение)\n",
    "\n",
    "print(f\"коэффициент детерминации после удаления наименее значимого коэффициента {(tss_j-rss_j)/tss_j}\")"
   ]
  },
  {
   "cell_type": "markdown",
   "metadata": {},
   "source": [
    "#### пункт k)"
   ]
  },
  {
   "cell_type": "code",
   "execution_count": 30,
   "metadata": {},
   "outputs": [],
   "source": [
    "delta_k = (rss_j - rss)/rss*(N - p)/(p - (p-1)) \n",
    "def get_bootstrap_samples(data, target, n_samples):\n",
    "    indices = np.random.randint(0, len(data), (n_samples, len(data)))\n",
    "    return data[indices], target[indices]\n",
    "delta_k_arr = np.array([])\n",
    "\n",
    "for i in range(1000):\n",
    "    data_k, target_k = get_bootstrap_samples(data, target, 1)\n",
    "    data_k, target_k = data_k[0], target_k[0]\n",
    "    data_k_5 = np.delete(data_k, p_value_coef.argmax(), axis=1)\n",
    "    \n",
    "    psi_k = np.ones((N,1))\n",
    "    psi_k_5 = np.hstack([psi_k, data_k_5])\n",
    "    psi_k = np.hstack([psi_k, data_k]) \n",
    "    rss_k = (target_k - psi_k @ beta).T @ (target_k - psi_k @ beta)\n",
    "    rss_k_5 = (target_k - psi_k_5 @ beta_j).T @ (target_k - psi_k_5 @ beta_j)\n",
    "    delta_k_arr = np.append(delta_k_arr, (rss_k_5 - rss_k)/rss_k*(N - p)/(p - (p-1)))\n",
    "\n",
    "    \n",
    "delta_k_arr.sort()\n",
    "k_k = sum(delta_k_arr < delta_k)\n",
    "k_k += 1\n"
   ]
  },
  {
   "cell_type": "code",
   "execution_count": 32,
   "metadata": {},
   "outputs": [
    {
     "name": "stdout",
     "output_type": "stream",
     "text": [
      "p_value bootstrap = 0.509\n",
      "p-val > 0.05 => нет оснований отвергнуть гипотезу\n"
     ]
    }
   ],
   "source": [
    "p_value_k = 1 - (k_k - 1)/1000\n",
    "print(f\"p_value bootstrap = {p_value_k}\")\n",
    "print(\"p-val > 0.05 => нет оснований отвергнуть гипотезу\")"
   ]
  },
  {
   "cell_type": "markdown",
   "metadata": {},
   "source": [
    "## Задача Т2"
   ]
  },
  {
   "cell_type": "code",
   "execution_count": 39,
   "metadata": {},
   "outputs": [],
   "source": [
    "sample = [[83, 85], \n",
    "          [84, 85, 85, 86, 87], \n",
    "          [86, 87, 87, 87, 88, 88, 88, 88, 88, 89, 90],\n",
    "          [89, 90, 90, 91],\n",
    "          [90, 92]]"
   ]
  },
  {
   "cell_type": "markdown",
   "metadata": {},
   "source": [
    "#### пункт а)"
   ]
  },
  {
   "cell_type": "code",
   "execution_count": 40,
   "metadata": {},
   "outputs": [
    {
     "name": "stdout",
     "output_type": "stream",
     "text": [
      "Коэффициенты: \n",
      "\n",
      "b0 = 84.0\n",
      "b1 = 85.4\n",
      "b2 = 87.81818181818183\n",
      "b3 = 90.0\n",
      "b4 = 91.0\n"
     ]
    }
   ],
   "source": [
    "def TSS(y):\n",
    "    y_average = sum(y)/len(y)\n",
    "    res = 0\n",
    "    for i in range(len(y)):\n",
    "        res += (y[i] - y_average)**2\n",
    "    return res\n",
    "\n",
    "def RSS(e):\n",
    "    return np.matmul(e.transpose(), e)\n",
    "\n",
    "def R_2(tss, rss):\n",
    "    return (tss - rss)/tss\n",
    "\n",
    "def calc_koefs(ksi, y):\n",
    "    ksi_T = ksi.transpose()\n",
    "    F = np.matmul(ksi_T, ksi)\n",
    "    F_inv = np.linalg.inv(F)\n",
    "    koefs = np.matmul(F_inv, np.matmul(ksi_T, y))\n",
    "    return koefs\n",
    "\n",
    "def calc_e(ksi, y, koefs):\n",
    "    return y - np.matmul(ksi, koefs)\n",
    "\n",
    "ksi = []\n",
    "y = []\n",
    "for i in range(len(sample)):\n",
    "    for j in range(len(sample[i])):\n",
    "        line = [0]*len(sample)\n",
    "        line[i] = 1\n",
    "        ksi.append(line)\n",
    "        y.append(sample[i][j])\n",
    "n = len(ksi)\n",
    "ksi = np.array(ksi)\n",
    "y = np.array(y)\n",
    "\n",
    "koefs = calc_koefs(ksi, y)\n",
    "\n",
    "print('Коэффициенты: \\n')\n",
    "for i in range(len(koefs)):\n",
    "    print(f'b{i} = {koefs[i]}')"
   ]
  },
  {
   "cell_type": "code",
   "execution_count": 43,
   "metadata": {},
   "outputs": [
    {
     "name": "stdout",
     "output_type": "stream",
     "text": [
      "b0 значим\n",
      "b1 значим\n",
      "b2 значим\n",
      "b3 значим\n",
      "b4 значим\n"
     ]
    }
   ],
   "source": [
    "def calc_delta(ksi, koefs, i, rss):\n",
    "    ksi_T = ksi.transpose()\n",
    "    F = np.matmul(ksi_T, ksi)\n",
    "    F_inv = np.linalg.inv(F)\n",
    "    p = ksi.shape[1]\n",
    "    return koefs[i]*math.sqrt(n-p)/math.sqrt(rss*F_inv[i][i])\n",
    "\n",
    "def integrate_student(a, b, N):\n",
    "    def student(x):\n",
    "        return math.gamma((N+1)/2)/(math.sqrt(math.pi*N)*math.gamma(N/2)*(1+x**2/N)**((N+1)/2))\n",
    "    return scipy.integrate.quad(student, a, b)[0]\n",
    "    \n",
    "e = calc_e(ksi, y, koefs)\n",
    "rss = RSS(e)\n",
    "    \n",
    "deltas = [calc_delta(ksi, koefs, i, rss) for i in range(len(sample))]\n",
    "\n",
    "p_values = [2*integrate_student(abs(deltas[i]), math.inf, n) for i in range(len(deltas))]\n",
    "for i in range(len(sample)):\n",
    "    if p_values[i] < 0.05:\n",
    "        print(f'b{i} значим')\n",
    "    else:\n",
    "        print(f'b{i} не значим')"
   ]
  },
  {
   "cell_type": "code",
   "execution_count": 45,
   "metadata": {},
   "outputs": [
    {
     "name": "stdout",
     "output_type": "stream",
     "text": [
      "Коэффициент детерминации: R^2 = 0.8091004084734492\n",
      "p-value = 1.2778798793544494e-06\n",
      "Коэффициент детерминации значим\n"
     ]
    }
   ],
   "source": [
    "def integrate_fisher(a, b, d1, d2):\n",
    "    def func(x):\n",
    "        return x**(d1/2-1)*(1-x)**(d2/2-1)\n",
    "    Beta = scipy.integrate.quad(func, 0, 1)[0]\n",
    "    def fisher(x):\n",
    "        return pow(d1/d2, d1/2) * pow(x, (d1/2 - 1)) * pow((1 + d1*x/d2), -(d1+d2)/2) / Beta \n",
    "    return scipy.integrate.quad(fisher, a, b)[0]\n",
    "\n",
    "\n",
    "tss = TSS(y)\n",
    "r_2 = R_2(tss, rss)\n",
    "print('Коэффициент детерминации: R^2 =', r_2)\n",
    "\n",
    "p = ksi.shape[1]\n",
    "delta_r_2 = r_2*(n-p)/((1-r_2)*(p-1))\n",
    "\n",
    "p_value_r_2 = integrate_fisher(delta_r_2, math.inf, p-1, n-p)\n",
    "print('p-value =', p_value_r_2)\n",
    "if p_value_r_2 < 0.05:\n",
    "    print('Коэффициент детерминации значим')\n",
    "else:\n",
    "    print('Коэффициент детерминации не значим')"
   ]
  },
  {
   "cell_type": "markdown",
   "metadata": {},
   "source": [
    "#### пункт b)"
   ]
  },
  {
   "cell_type": "code",
   "execution_count": 46,
   "metadata": {},
   "outputs": [
    {
     "name": "stdout",
     "output_type": "stream",
     "text": [
      "H0: b0=b1 | H1: !H0     ->     p-value = 0.14340811626585315 => H0: b0=b2 | H1: !H0     ->     p-value = 0.0002287219868382402 => H0: b0=b3 | H1: !H0     ->     p-value = 4.586693462926683e-06 => H0: b0=b4 | H1: !H0     ->     p-value = 4.003248689410462e-06 => H0: b1=b2 | H1: !H0     ->     p-value = 0.0006244964048529733 => H0: b1=b3 | H1: !H0     ->     p-value = 5.249414227098847e-06 => H0: b1=b4 | H1: !H0     ->     p-value = 7.186665224756283e-06 => H0: b2=b3 | H1: !H0     ->     p-value = 0.0029472837797510382 => H0: b2=b4 | H1: !H0     ->     p-value = 0.0012792424725151822 => H0: b3=b4 | H1: !H0     ->     p-value = 0.3054360645262756 => "
     ]
    }
   ],
   "source": [
    "ksi_T = ksi.transpose()\n",
    "F = np.matmul(ksi_T, ksi)\n",
    "F_inv = np.linalg.inv(F)\n",
    "for i in range(p):\n",
    "    for j in range(i+1, p):\n",
    "        delta_comp = (koefs[i]-koefs[j])*math.sqrt(n-p)/math.sqrt(rss*(F_inv[i][i]+F_inv[j][j]))\n",
    "        p_value = 2*integrate_student(abs(delta_comp), math.inf, n-p)\n",
    "        print(f'H0: b{i}=b{j} | H1: !H0     ->     p-value = {p_value} =>', end=' ')    "
   ]
  },
  {
   "cell_type": "code",
   "execution_count": null,
   "metadata": {},
   "outputs": [],
   "source": []
  }
 ],
 "metadata": {
  "kernelspec": {
   "display_name": "Python 3",
   "language": "python",
   "name": "python3"
  },
  "language_info": {
   "codemirror_mode": {
    "name": "ipython",
    "version": 3
   },
   "file_extension": ".py",
   "mimetype": "text/x-python",
   "name": "python",
   "nbconvert_exporter": "python",
   "pygments_lexer": "ipython3",
   "version": "3.8.5"
  }
 },
 "nbformat": 4,
 "nbformat_minor": 4
}
