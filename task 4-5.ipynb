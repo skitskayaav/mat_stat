{
 "cells": [
  {
   "cell_type": "code",
   "execution_count": 152,
   "metadata": {},
   "outputs": [],
   "source": [
    "import numpy as np\n",
    "import math\n",
    "import random\n",
    "import statistics as stat\n",
    "import matplotlib.pyplot as plt\n",
    "from scipy import integrate\n",
    "import seaborn as sns"
   ]
  },
  {
   "cell_type": "markdown",
   "metadata": {},
   "source": [
    "## 4 номер"
   ]
  },
  {
   "cell_type": "code",
   "execution_count": 126,
   "metadata": {},
   "outputs": [
    {
     "name": "stdout",
     "output_type": "stream",
     "text": [
      "Выборка -  [169.7206128  199.19183878 185.13724218 190.67657463 164.17099377\n",
      " 121.94153666 100.54077115 101.04343727 133.71332027 117.61621961\n",
      " 176.57856991 114.37221647 194.75890123 117.11550254 138.81607674\n",
      " 155.00901306 168.19468632 126.42150391 159.7309882  108.51274923\n",
      " 162.25778705 155.14143856 124.4549753  184.87023036 161.10254556\n",
      " 144.78526458 117.18858084 156.30543779 195.26327749 192.113687\n",
      " 193.21847415 153.88505816 154.97405725 195.76802707 162.71921055\n",
      " 101.9450907  102.82951765 117.8605255  106.16059468 182.93049345\n",
      " 149.34997044 142.56033763 179.97281589 114.76382585 183.87203971\n",
      " 127.874213   187.34146745 150.61179161 173.40354052 134.34001992\n",
      " 168.14685948 185.92841778 198.14880482 136.92889232 141.48772977\n",
      " 125.17924339 120.27765334 180.76869507 193.59897396 130.56232946\n",
      " 124.59159356 111.78633572 173.58521621 114.41224093 136.97347303\n",
      " 182.93541961 158.37531314 183.68525592 104.4765949  114.73889396\n",
      " 146.91330874 120.5827106  172.56791488 126.40002101 119.42888415\n",
      " 186.96001375 186.08705459 183.63243841 120.36024897 193.31667018\n",
      " 133.91369296 172.358165   141.16949577 192.58539161 112.88520476\n",
      " 152.03297008 111.72239247 142.62113324 139.8723144  150.26702518\n",
      " 186.48752087 132.2091719  112.72680916 199.6609697  100.16450755\n",
      " 134.30760939 103.71394612 172.23775504 126.86623177 193.79197813]\n"
     ]
    }
   ],
   "source": [
    "teta = 100\n",
    "n = 100\n",
    "array = []\n",
    "\n",
    "\n",
    "def generate_x(F):\n",
    "    return teta*(F+1)\n",
    "\n",
    "\n",
    "for i in range(n):\n",
    "    array.append(generate_x(random.random()))\n",
    "print(\"Выборка - \", np.array(array))"
   ]
  },
  {
   "cell_type": "markdown",
   "metadata": {},
   "source": [
    "## Точный доверительный интервал"
   ]
  },
  {
   "cell_type": "code",
   "execution_count": 127,
   "metadata": {},
   "outputs": [
    {
     "name": "stdout",
     "output_type": "stream",
     "text": [
      "99.84312229637499 ; 101.67158919960463\n"
     ]
    }
   ],
   "source": [
    "max_x = max(array)\n",
    "f1 = str(max_x/(pow(0.975, 1/n) + 1))\n",
    "f2 = str(max_x/(pow(0.025, 1/n) + 1))\n",
    "print(f1 + ' ; '+ f2)"
   ]
  },
  {
   "cell_type": "markdown",
   "metadata": {},
   "source": [
    "## Ассимптотический доверительный интервал"
   ]
  },
  {
   "cell_type": "code",
   "execution_count": 128,
   "metadata": {},
   "outputs": [
    {
     "name": "stdout",
     "output_type": "stream",
     "text": [
      "96.05135503032324 ; 104.04942546556924\n"
     ]
    }
   ],
   "source": [
    "def a_i(array, i):\n",
    "    res = 0\n",
    "    for el in array:\n",
    "        res += el**i\n",
    "    return res/len(array)\n",
    "\n",
    "a_1 = a_i(array, 1)\n",
    "a_2 = a_i(array, 2)\n",
    "\n",
    "teta_a = (2/3)*a_1\n",
    "\n",
    "abs_limit = 1.96*(2/3)*math.sqrt(a_2-a_1**2)/math.sqrt(n)\n",
    "\n",
    "f1 = str(-abs_limit + teta_a)\n",
    "f2 = str(abs_limit + teta_a)\n",
    "print (f1 + \" ; \" + f2)"
   ]
  },
  {
   "cell_type": "markdown",
   "metadata": {},
   "source": [
    "## bootstrap"
   ]
  },
  {
   "cell_type": "code",
   "execution_count": 129,
   "metadata": {},
   "outputs": [
    {
     "name": "stdout",
     "output_type": "stream",
     "text": [
      "96.05955752773042 ; 104.09085888563632\n"
     ]
    }
   ],
   "source": [
    "bt_delta = []\n",
    "for i in range(1000):\n",
    "    tmp = [random.choice(array) for j in range(n)]\n",
    "    delta = a_i(tmp, 1)*(2/3) - teta_a\n",
    "    bt_delta.append(delta)\n",
    "    \n",
    "bt_delta.sort()\n",
    "\n",
    "a = int((1 - 0.95)*1000/2)\n",
    "b = int((1 + 0.95)*1000/2)\n",
    "\n",
    "f1 = str(teta_a - bt_delta[b])\n",
    "f2 = str(teta_a - bt_delta[a])\n",
    "print (f1 + \" ; \" + f2)"
   ]
  },
  {
   "cell_type": "markdown",
   "metadata": {},
   "source": [
    "##### если сравнивать интервалы, то точнее всего точный доверительный, далее ассимптотический и bootstrap"
   ]
  },
  {
   "cell_type": "markdown",
   "metadata": {},
   "source": [
    "## 5 номер"
   ]
  },
  {
   "cell_type": "code",
   "execution_count": 182,
   "metadata": {},
   "outputs": [
    {
     "name": "stdout",
     "output_type": "stream",
     "text": [
      "Выборка -  [1.00627617 1.05900756 1.34971254 1.23065184 1.27538399 1.129408\n",
      " 1.03654112 1.35582751 1.44480571 1.27082697 1.08065645 1.05316178\n",
      " 1.07237387 1.18916793 1.05032269 1.79152012 1.13959008 1.7539432\n",
      " 3.02626481 1.05108522 1.05973434 1.01112076 1.03825923 1.05236728\n",
      " 1.40515039 1.34192921 1.05545952 1.69976205 1.3647464  1.14728204\n",
      " 1.41718104 1.07264328 2.1293191  1.08572911 1.40736662 1.01568478\n",
      " 1.16689362 1.03041854 1.47832116 1.18796222 1.0230267  1.34442963\n",
      " 2.29078343 1.1818136  1.209066   1.0049903  2.09760235 1.24654876\n",
      " 1.4572554  1.19152981 1.45930794 1.2825579  1.00485225 1.44816487\n",
      " 1.02107561 1.61087073 1.01410976 1.28310403 1.34569974 1.37476081\n",
      " 1.19613434 1.2287856  1.84320537 1.27927967 1.03783891 1.6637554\n",
      " 1.15528194 1.40192769 1.15157221 1.15140397 1.19681073 1.07091745\n",
      " 1.72000022 1.70803795 1.01659627 1.18598495 1.02794476 1.86859038\n",
      " 1.19867296 1.10493614 2.5627656  1.33724088 1.01896427 1.06334792\n",
      " 1.11576552 1.41323583 1.24491691 1.76055567 1.59066939 1.34290214\n",
      " 1.33807744 1.03182904 1.34990054 1.07529668 1.13075019 1.02070069\n",
      " 2.18886794 1.23792434 1.41369113 1.02431827]\n"
     ]
    }
   ],
   "source": [
    "teta = 5\n",
    "n = 100\n",
    "array_2 = []\n",
    "\n",
    "\n",
    "def create(n, teta):\n",
    "    return [(1 - x)**(1 / (1-teta)) for x in np.random.uniform(0,1,n)]\n",
    "\n",
    "array_2 = create(n, teta)\n",
    "print (\"Выборка - \", np.array(array_2))"
   ]
  },
  {
   "cell_type": "markdown",
   "metadata": {},
   "source": [
    "## Доверительный интервал для медианы"
   ]
  },
  {
   "cell_type": "code",
   "execution_count": 183,
   "metadata": {},
   "outputs": [
    {
     "name": "stdout",
     "output_type": "stream",
     "text": [
      "1.148816632618289 1.2295975973871531\n",
      "медиана = 1.20387\n"
     ]
    }
   ],
   "source": [
    "x = 2**(1/(teta-1))\n",
    "\n",
    "a = x - 1.96*x*math.log(2)/(math.sqrt(n)*(teta-1))\n",
    "b = x + 1.96*x*math.log(2)/(math.sqrt(n)*(teta-1))\n",
    "\n",
    "print(a,b)\n",
    "print(\"медиана =\", np.round(stat.median(array_2),5))"
   ]
  },
  {
   "cell_type": "markdown",
   "metadata": {},
   "source": [
    "## Байесовский доверительный интервал"
   ]
  },
  {
   "cell_type": "code",
   "execution_count": 184,
   "metadata": {},
   "outputs": [
    {
     "name": "stderr",
     "output_type": "stream",
     "text": [
      "<ipython-input-184-252a5eb01990>:2: RuntimeWarning: overflow encountered in double_scalars\n",
      "  return np.exp(1-x)*(x-1)**n  / ((prod)**x)\n"
     ]
    },
    {
     "name": "stdout",
     "output_type": "stream",
     "text": [
      "4.18299999999965 5.705999999999482\n"
     ]
    }
   ],
   "source": [
    "def func(x, n, prod):\n",
    "    return np.exp(1-x)*(x-1)**n  / ((prod)**x)\n",
    "\n",
    "def integrate(prod, c = None, prob = 0.025):\n",
    "    integral = 0\n",
    "    low = 1\n",
    "    high = 10e2\n",
    "    step = 10e-4\n",
    "    \n",
    "    idxs = np.arange(low, high, step)\n",
    "    \n",
    "    if c is not None:\n",
    "         for i in range(len(idxs)-1):\n",
    "            try:\n",
    "                part = step * 0.5* (func(idxs[i], n, prod)+func(idxs[i+1], n, prod)) * c\n",
    "                integral += part\n",
    "            except:\n",
    "                return idxs[i]\n",
    "\n",
    "            if integral>=prob:\n",
    "                return idxs[i]\n",
    "        \n",
    "    \n",
    "    else:\n",
    "        for i in range(len(idxs)-1):\n",
    "            try:\n",
    "                part = step * 0.5* (func(idxs[i], n, prod)+func(idxs[i+1], n, prod)) \n",
    "                integral += part\n",
    "            except:\n",
    "                return integral\n",
    "\n",
    "        return integral\n",
    "    \n",
    "prod = np.product(array_2)\n",
    "integ = integrate(prod)\n",
    "\n",
    "c = 1/integ\n",
    "f1 = integrate(prod, c, 0.025)\n",
    "f2 = integrate(prod, c, 0.975)\n",
    "\n",
    "print(f1, f2)"
   ]
  },
  {
   "cell_type": "markdown",
   "metadata": {},
   "source": [
    "## Ассимптотические доверительные интервалы"
   ]
  },
  {
   "cell_type": "code",
   "execution_count": 185,
   "metadata": {},
   "outputs": [
    {
     "name": "stdout",
     "output_type": "stream",
     "text": [
      "4.23647523008829; 5.814458178091536\n"
     ]
    }
   ],
   "source": [
    "teta_e = n/np.sum(np.log(array_2))+1\n",
    "\n",
    "a_a = - (1.96*(teta_e-1)/n**0.5)+teta_e\n",
    "b_a =  (1.96*(teta_e-1)/n**0.5)+teta_e\n",
    "\n",
    "print(str(a_a) + '; ' + str(b_a))"
   ]
  },
  {
   "cell_type": "markdown",
   "metadata": {},
   "source": [
    "## Параметрический bootstrap"
   ]
  },
  {
   "cell_type": "code",
   "execution_count": 186,
   "metadata": {},
   "outputs": [
    {
     "name": "stdout",
     "output_type": "stream",
     "text": [
      "4.133550398610957;5.702258756798948\n"
     ]
    }
   ],
   "source": [
    "\n",
    "p_deltas = []\n",
    "for i in range(10000):\n",
    "    new = create(len(array_2), teta_e)\n",
    "    new_tet_e = n/np.sum(np.log(new))+1\n",
    "    p_deltas.append(new_tet_e - teta_e)\n",
    "    \n",
    "p_deltas.sort()\n",
    "\n",
    "\n",
    "b_p = -1*(p_deltas[int(0.025*len(p_deltas))]-teta_e)\n",
    "a_p = -1*(p_deltas[int(0.975*len(p_deltas))]-teta_e)\n",
    "\n",
    "print(str(a_p) + \";\" + str(b_p))"
   ]
  },
  {
   "cell_type": "markdown",
   "metadata": {},
   "source": [
    "## Непараметрический bootstrap"
   ]
  },
  {
   "cell_type": "code",
   "execution_count": 187,
   "metadata": {},
   "outputs": [
    {
     "name": "stdout",
     "output_type": "stream",
     "text": [
      "4.1966176619732005;5.635005223909554\n"
     ]
    }
   ],
   "source": [
    "delta = np.array([])\n",
    "teta_boot = np.array([])\n",
    "\n",
    "for i in range(1000):\n",
    "    bootstrap = np.random.choice(array_2, size = n).round(2) \n",
    "    delta = np.append(delta, n/np.sum(np.log(bootstrap))+1  - teta_e)\n",
    "    teta_boot = np.append(teta_boot, n/np.sum(np.log(bootstrap))+1)\n",
    "    \n",
    "\n",
    "delta.sort() \n",
    "a_n, b_n = teta_e - delta[974], teta_e - delta[24]\n",
    "print(str(a_n) + \";\" + str(b_n))"
   ]
  },
  {
   "cell_type": "markdown",
   "metadata": {},
   "source": [
    "## Сравнение интервалов"
   ]
  },
  {
   "cell_type": "code",
   "execution_count": 197,
   "metadata": {},
   "outputs": [
    {
     "data": {
      "text/plain": [
       "<matplotlib.legend.Legend at 0x1d5248451c0>"
      ]
     },
     "execution_count": 197,
     "metadata": {},
     "output_type": "execute_result"
    },
    {
     "data": {
      "image/png": "[encoded data removed]",
      "text/plain": [
       "<Figure size 576x504 with 1 Axes>"
      ]
     },
     "metadata": {
      "needs_background": "light"
     },
     "output_type": "display_data"
    }
   ],
   "source": [
    "fig, ax = plt.subplots(figsize=(8,7))\n",
    "\n",
    "ax.plot([a_n, b_n], [1,1], label = 'непараметрический бутстрап', linewidth= 3, color = 'red')\n",
    "ax.plot([a_p, b_p], [3,3], label = 'параметрический бутстрап', linewidth= 3, color = 'purple')\n",
    "ax.plot([a_a, b_a], [2,2], label = 'ассимптотический', linewidth= 3, color = 'g')\n",
    "ax.plot([f1, f2], [0,0], label = 'байесовский', linewidth= 3)\n",
    "\n",
    "\n",
    "ax.grid(color = 'lightgray')\n",
    "ax.set_title('Интервалы')    \n",
    "\n",
    "ax.legend(loc = 'best')"
   ]
  },
  {
   "cell_type": "code",
   "execution_count": null,
   "metadata": {},
   "outputs": [],
   "source": []
  }
 ],
 "metadata": {
  "kernelspec": {
   "display_name": "Python 3",
   "language": "python",
   "name": "python3"
  },
  "language_info": {
   "codemirror_mode": {
    "name": "ipython",
    "version": 3
   },
   "file_extension": ".py",
   "mimetype": "text/x-python",
   "name": "python",
   "nbconvert_exporter": "python",
   "pygments_lexer": "ipython3",
   "version": "3.8.5"
  }
 },
 "nbformat": 4,
 "nbformat_minor": 4
}
